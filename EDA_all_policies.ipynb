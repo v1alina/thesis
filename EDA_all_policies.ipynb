{
 "cells": [
  {
   "cell_type": "markdown",
   "id": "6cc42814-50a2-4637-9bc6-a9687100fd36",
   "metadata": {
    "tags": []
   },
   "source": [
    "# Corpus creation: collecting AI regulatory frameworks\n",
    "---\n",
    "By Miriam C. Weigand, June 2024"
   ]
  },
  {
   "cell_type": "markdown",
   "id": "f616e203-ae96-49cc-a513-5b14c18e14c3",
   "metadata": {},
   "source": [
    "## Contents \n",
    "---\n",
    "\n",
    "This notebook is about the corpus selection process on AI regulatory frameworks. The dataset used for corpus creation is provided by the [OECD.AI](https://oecd.ai/en/dashboards/overview).\n",
    "\n",
    "1. First, I explore the dataset to narrow down the possible relevant documents. \n",
    "\n",
    "2. After this, I narrow down the relevant initiatives by using the OECD.AI principles and remove unnecessary columns to reduce clutter. Then the dataset is saved as a CSV-file `cleaned_policies.csv` and the remaining initiatives are check for relevance and availability manually. This process results in the final selection and the corpus documents are all downloaded as PDF-files in the `Policy_corpus` folder. \n",
    "\n",
    "3. The updated `corpus_selection.csv` shows, which initiatives are in the corpus and why some initiatives were not available or suitable. \n",
    "\n",
    "4. Lastly, the PDFs in the `Policy_corpus` are converted to txt files for the actual processing task of topic modelling. More on this can be found in the complementary Jupyter Notebooks `BERTopic_v1.ipynb` and `LEGAL_BERT_v2.ipynb` in the [Master Thesis Git Repo](https://github.com/v1alina/thesis)."
   ]
  },
  {
   "cell_type": "markdown",
   "id": "8a0e92e3-7e9c-4aa4-83a4-5c0c529f3929",
   "metadata": {
    "tags": []
   },
   "source": [
    "## 1. Exploratory Data Analysis(EDA): Importing and exploring the OECD.AI dataset\n",
    "---"
   ]
  },
  {
   "cell_type": "markdown",
   "id": "c1b14341-4612-49f7-b78d-b35052a96cbc",
   "metadata": {},
   "source": [
    "Exploratory data analysis (EDA) is an essential first step for familiarizing yourself with any dataset.\n",
    "It is common to check how our entries look like, what columns we have available and checking if there are any noteable null-values (missing entries) among other things."
   ]
  },
  {
   "cell_type": "code",
   "execution_count": 1,
   "id": "c2555f02-0a84-4ad0-b8e0-5de2a8f10014",
   "metadata": {
    "tags": []
   },
   "outputs": [],
   "source": [
    "# Importing necessary libraries\n",
    "import pandas as pd\n",
    "import seaborn as sn\n",
    "import matplotlib.pyplot as plt"
   ]
  },
  {
   "cell_type": "code",
   "execution_count": 2,
   "id": "7da35d1f-7e17-42ca-90c5-bd88549b8ed4",
   "metadata": {
    "tags": []
   },
   "outputs": [],
   "source": [
    "# Loading the dataset\n",
    "df = pd.read_csv('corpus/oecd-ai-all-ai-policies.csv')"
   ]
  },
  {
   "cell_type": "code",
   "execution_count": 3,
   "id": "9afc1150-4749-42c4-bb72-80fa77a02663",
   "metadata": {
    "tags": []
   },
   "outputs": [
    {
     "data": {
      "text/html": [
       "<div>\n",
       "<style scoped>\n",
       "    .dataframe tbody tr th:only-of-type {\n",
       "        vertical-align: middle;\n",
       "    }\n",
       "\n",
       "    .dataframe tbody tr th {\n",
       "        vertical-align: top;\n",
       "    }\n",
       "\n",
       "    .dataframe thead th {\n",
       "        text-align: right;\n",
       "    }\n",
       "</style>\n",
       "<table border=\"1\" class=\"dataframe\">\n",
       "  <thead>\n",
       "    <tr style=\"text-align: right;\">\n",
       "      <th></th>\n",
       "      <th>Policy initiative ID</th>\n",
       "      <th>Platform URL</th>\n",
       "      <th>English name</th>\n",
       "      <th>Original name(s)</th>\n",
       "      <th>Acronym</th>\n",
       "      <th>Country</th>\n",
       "      <th>Start date</th>\n",
       "      <th>End date</th>\n",
       "      <th>Description</th>\n",
       "      <th>Theme area(s)</th>\n",
       "      <th>...</th>\n",
       "      <th>Objective</th>\n",
       "      <th>Deployment year</th>\n",
       "      <th>Cancellation reason</th>\n",
       "      <th>Entities involvement</th>\n",
       "      <th>Allocated funding</th>\n",
       "      <th>Methodology in place to assess the risk and evaluate the impact of AI in public services</th>\n",
       "      <th>Measures taken to communicate the use of the AI system to citizens (transparency)</th>\n",
       "      <th>Measures taken to enable citizens to understand and challenge the outcome of the AI system (explainability and accountability)</th>\n",
       "      <th>Audit, certification, monitoring, evaluation or regulation process</th>\n",
       "      <th>Entered into force on</th>\n",
       "    </tr>\n",
       "  </thead>\n",
       "  <tbody>\n",
       "    <tr>\n",
       "      <th>0</th>\n",
       "      <td>2021/data/policyInitiatives/1335</td>\n",
       "      <td>https://oecd.ai/en/dashboards/policy-initiativ...</td>\n",
       "      <td>SPACERESOURCES.LU</td>\n",
       "      <td>NaN</td>\n",
       "      <td>NaN</td>\n",
       "      <td>Luxembourg</td>\n",
       "      <td>2016.0</td>\n",
       "      <td>NaN</td>\n",
       "      <td>Within the SpaceResources.lu initiative, the c...</td>\n",
       "      <td>National AI Policies</td>\n",
       "      <td>...</td>\n",
       "      <td>NaN</td>\n",
       "      <td>NaN</td>\n",
       "      <td>NaN</td>\n",
       "      <td>NaN</td>\n",
       "      <td>NaN</td>\n",
       "      <td>NaN</td>\n",
       "      <td>NaN</td>\n",
       "      <td>NaN</td>\n",
       "      <td>NaN</td>\n",
       "      <td>NaN</td>\n",
       "    </tr>\n",
       "    <tr>\n",
       "      <th>1</th>\n",
       "      <td>2021/data/policyInitiatives/1337</td>\n",
       "      <td>https://oecd.ai/en/dashboards/policy-initiativ...</td>\n",
       "      <td>DIGITAL LUXEMBOURG</td>\n",
       "      <td>Digital Lëtzebuerg</td>\n",
       "      <td>NaN</td>\n",
       "      <td>Luxembourg</td>\n",
       "      <td>2014.0</td>\n",
       "      <td>NaN</td>\n",
       "      <td>Consolidating Luxembourgs position in the ICT ...</td>\n",
       "      <td>National AI Policies</td>\n",
       "      <td>...</td>\n",
       "      <td>NaN</td>\n",
       "      <td>NaN</td>\n",
       "      <td>NaN</td>\n",
       "      <td>NaN</td>\n",
       "      <td>NaN</td>\n",
       "      <td>NaN</td>\n",
       "      <td>NaN</td>\n",
       "      <td>NaN</td>\n",
       "      <td>NaN</td>\n",
       "      <td>NaN</td>\n",
       "    </tr>\n",
       "    <tr>\n",
       "      <th>2</th>\n",
       "      <td>2021/data/policyInitiatives/1337</td>\n",
       "      <td>https://oecd.ai/en/dashboards/policy-initiativ...</td>\n",
       "      <td>DIGITAL LUXEMBOURG</td>\n",
       "      <td>Digital Lëtzebuerg</td>\n",
       "      <td>NaN</td>\n",
       "      <td>Luxembourg</td>\n",
       "      <td>2014.0</td>\n",
       "      <td>NaN</td>\n",
       "      <td>Consolidating Luxembourgs position in the ICT ...</td>\n",
       "      <td>National AI Policies</td>\n",
       "      <td>...</td>\n",
       "      <td>NaN</td>\n",
       "      <td>NaN</td>\n",
       "      <td>NaN</td>\n",
       "      <td>NaN</td>\n",
       "      <td>NaN</td>\n",
       "      <td>NaN</td>\n",
       "      <td>NaN</td>\n",
       "      <td>NaN</td>\n",
       "      <td>NaN</td>\n",
       "      <td>NaN</td>\n",
       "    </tr>\n",
       "    <tr>\n",
       "      <th>3</th>\n",
       "      <td>2021/data/policyInitiatives/1355</td>\n",
       "      <td>https://oecd.ai/en/dashboards/policy-initiativ...</td>\n",
       "      <td>DIGITAL TECH FUND</td>\n",
       "      <td>NaN</td>\n",
       "      <td>NaN</td>\n",
       "      <td>Luxembourg</td>\n",
       "      <td>2016.0</td>\n",
       "      <td>NaN</td>\n",
       "      <td>A seed fund was set up in 2016 jointly by the ...</td>\n",
       "      <td>National AI Policies</td>\n",
       "      <td>...</td>\n",
       "      <td>NaN</td>\n",
       "      <td>NaN</td>\n",
       "      <td>NaN</td>\n",
       "      <td>NaN</td>\n",
       "      <td>NaN</td>\n",
       "      <td>NaN</td>\n",
       "      <td>NaN</td>\n",
       "      <td>NaN</td>\n",
       "      <td>NaN</td>\n",
       "      <td>NaN</td>\n",
       "    </tr>\n",
       "    <tr>\n",
       "      <th>4</th>\n",
       "      <td>2021/data/policyInitiatives/13968</td>\n",
       "      <td>https://oecd.ai/en/dashboards/policy-initiativ...</td>\n",
       "      <td>GAMEINN</td>\n",
       "      <td>NaN</td>\n",
       "      <td>NaN</td>\n",
       "      <td>Poland</td>\n",
       "      <td>2016.0</td>\n",
       "      <td>NaN</td>\n",
       "      <td>Funding opportunities for the producers of vid...</td>\n",
       "      <td>National AI Policies</td>\n",
       "      <td>...</td>\n",
       "      <td>NaN</td>\n",
       "      <td>NaN</td>\n",
       "      <td>NaN</td>\n",
       "      <td>NaN</td>\n",
       "      <td>NaN</td>\n",
       "      <td>NaN</td>\n",
       "      <td>NaN</td>\n",
       "      <td>NaN</td>\n",
       "      <td>NaN</td>\n",
       "      <td>NaN</td>\n",
       "    </tr>\n",
       "  </tbody>\n",
       "</table>\n",
       "<p>5 rows × 52 columns</p>\n",
       "</div>"
      ],
      "text/plain": [
       "                Policy initiative ID  \\\n",
       "0   2021/data/policyInitiatives/1335   \n",
       "1   2021/data/policyInitiatives/1337   \n",
       "2   2021/data/policyInitiatives/1337   \n",
       "3   2021/data/policyInitiatives/1355   \n",
       "4  2021/data/policyInitiatives/13968   \n",
       "\n",
       "                                        Platform URL        English name  \\\n",
       "0  https://oecd.ai/en/dashboards/policy-initiativ...   SPACERESOURCES.LU   \n",
       "1  https://oecd.ai/en/dashboards/policy-initiativ...  DIGITAL LUXEMBOURG   \n",
       "2  https://oecd.ai/en/dashboards/policy-initiativ...  DIGITAL LUXEMBOURG   \n",
       "3  https://oecd.ai/en/dashboards/policy-initiativ...   DIGITAL TECH FUND   \n",
       "4  https://oecd.ai/en/dashboards/policy-initiativ...             GAMEINN   \n",
       "\n",
       "     Original name(s) Acronym     Country  Start date  End date  \\\n",
       "0                 NaN     NaN  Luxembourg      2016.0       NaN   \n",
       "1  Digital Lëtzebuerg     NaN  Luxembourg      2014.0       NaN   \n",
       "2  Digital Lëtzebuerg     NaN  Luxembourg      2014.0       NaN   \n",
       "3                 NaN     NaN  Luxembourg      2016.0       NaN   \n",
       "4                 NaN     NaN      Poland      2016.0       NaN   \n",
       "\n",
       "                                         Description         Theme area(s)  \\\n",
       "0  Within the SpaceResources.lu initiative, the c...  National AI Policies   \n",
       "1  Consolidating Luxembourgs position in the ICT ...  National AI Policies   \n",
       "2  Consolidating Luxembourgs position in the ICT ...  National AI Policies   \n",
       "3  A seed fund was set up in 2016 jointly by the ...  National AI Policies   \n",
       "4  Funding opportunities for the producers of vid...  National AI Policies   \n",
       "\n",
       "   ... Objective Deployment year Cancellation reason Entities involvement  \\\n",
       "0  ...       NaN             NaN                 NaN                  NaN   \n",
       "1  ...       NaN             NaN                 NaN                  NaN   \n",
       "2  ...       NaN             NaN                 NaN                  NaN   \n",
       "3  ...       NaN             NaN                 NaN                  NaN   \n",
       "4  ...       NaN             NaN                 NaN                  NaN   \n",
       "\n",
       "  Allocated funding  \\\n",
       "0               NaN   \n",
       "1               NaN   \n",
       "2               NaN   \n",
       "3               NaN   \n",
       "4               NaN   \n",
       "\n",
       "  Methodology in place to assess the risk and evaluate the impact of AI in public services  \\\n",
       "0                                                NaN                                         \n",
       "1                                                NaN                                         \n",
       "2                                                NaN                                         \n",
       "3                                                NaN                                         \n",
       "4                                                NaN                                         \n",
       "\n",
       "  Measures taken to communicate the use of the AI system to citizens (transparency)  \\\n",
       "0                                                NaN                                  \n",
       "1                                                NaN                                  \n",
       "2                                                NaN                                  \n",
       "3                                                NaN                                  \n",
       "4                                                NaN                                  \n",
       "\n",
       "   Measures taken to enable citizens to understand and challenge the outcome of the AI system (explainability and accountability)  \\\n",
       "0                                                NaN                                                                                \n",
       "1                                                NaN                                                                                \n",
       "2                                                NaN                                                                                \n",
       "3                                                NaN                                                                                \n",
       "4                                                NaN                                                                                \n",
       "\n",
       "   Audit, certification, monitoring, evaluation or regulation process  \\\n",
       "0                                                NaN                    \n",
       "1                                                NaN                    \n",
       "2                                                NaN                    \n",
       "3                                                NaN                    \n",
       "4                                                NaN                    \n",
       "\n",
       "  Entered into force on  \n",
       "0                   NaN  \n",
       "1                   NaN  \n",
       "2                   NaN  \n",
       "3                   NaN  \n",
       "4                   NaN  \n",
       "\n",
       "[5 rows x 52 columns]"
      ]
     },
     "execution_count": 3,
     "metadata": {},
     "output_type": "execute_result"
    }
   ],
   "source": [
    "# Displaying the first 5 entries\n",
    "df.head(5)"
   ]
  },
  {
   "cell_type": "code",
   "execution_count": 4,
   "id": "2cbcf689-de28-40db-90a7-4af7fd196cdc",
   "metadata": {
    "tags": []
   },
   "outputs": [
    {
     "name": "stdout",
     "output_type": "stream",
     "text": [
      "(1884, 52)\n"
     ]
    }
   ],
   "source": [
    "print(df.shape)"
   ]
  },
  {
   "cell_type": "markdown",
   "id": "876a66d6-c75f-4e0b-b7ab-4d8f6db20d16",
   "metadata": {},
   "source": [
    "The shape tells us that we have a total of 1884 entries (rows) and 52 columns in our dataframe. Since we have a lot of columns in the dataset, it might be interesting to check some of them and see if they are really useful for us."
   ]
  },
  {
   "cell_type": "code",
   "execution_count": 5,
   "id": "5e199dea-9d6d-4804-a47a-8c90b1483d73",
   "metadata": {
    "tags": []
   },
   "outputs": [
    {
     "name": "stdout",
     "output_type": "stream",
     "text": [
      "Index(['Policy initiative ID', 'Platform URL', 'English name',\n",
      "       'Original name(s)', 'Acronym', 'Country', 'Start date', 'End date',\n",
      "       'Description', 'Theme area(s)', 'Theme(s)', 'Background',\n",
      "       'Objective(s)', 'Target group type(s)', 'Target group(s)',\n",
      "       'Responsible organisation(s)', 'Yearly budget range',\n",
      "       'Budget amount\\n(in local currency)',\n",
      "       'Has funding from private sector ?', 'Public access URL',\n",
      "       'Is a structural reform ?', 'Is evaluated ?', 'Evaluation URL',\n",
      "       'AI Principle(s)', 'AI Policy Area(s)', 'Other AI Policy Area(s)',\n",
      "       'Shift(s) related to Covid', 'Evaluation performed by',\n",
      "       'Evaluation type', 'Evaluation provides input to',\n",
      "       'Policy instrument ID', 'Policy instrument type category',\n",
      "       'Policy instrument type', 'Policy instrument name',\n",
      "       'Policy instrument description(s)',\n",
      "       'Strategy priority targets and deadlines',\n",
      "       'Coordinating institution name', 'Consultation process objective',\n",
      "       'Consultation process begin date', 'Consultation process end date',\n",
      "       'Link', 'Policy instrument mini-field(s)', 'Objective',\n",
      "       'Deployment year', 'Cancellation reason', 'Entities involvement',\n",
      "       'Allocated funding',\n",
      "       'Methodology in place to assess the risk and evaluate the impact of AI in public services',\n",
      "       'Measures taken to communicate the use of the AI system to citizens (transparency)',\n",
      "       'Measures taken to enable citizens to understand and challenge the outcome of the AI system (explainability and accountability)',\n",
      "       'Audit, certification, monitoring, evaluation or regulation process',\n",
      "       'Entered into force on'],\n",
      "      dtype='object')\n"
     ]
    }
   ],
   "source": [
    "print(df.columns)"
   ]
  },
  {
   "cell_type": "markdown",
   "id": "0e81ca11-8658-4ccf-bd48-5a7bb024f65b",
   "metadata": {},
   "source": [
    "As we can see there are a lot of different columns. However, as is visible in the preview of the dataset above, a lot of those also have Null values. Additionally, some of these are not quite as useful considering that we mainly want to do a textual analysis."
   ]
  },
  {
   "cell_type": "markdown",
   "id": "e05a1f16-437d-4745-b9a3-efb8c32a89ce",
   "metadata": {
    "tags": []
   },
   "source": [
    "## 2. Filtering for specific ethical principles\n",
    "---"
   ]
  },
  {
   "cell_type": "markdown",
   "id": "066ba1bc-d450-4be9-9d86-d7157bc557d9",
   "metadata": {},
   "source": [
    "One useful aspect of the dataset is that the OECD already classifies [principles for trustworthy AI](https://oecd.ai/en/ai-principles) that are appearing in the policy initiatives using the `AI Principle(s)` column. \n",
    "\n",
    "As the research centers around the specific meaning and understanding of accountability, I am filtering for the entries (documents), where the OECD identified relevant principles to be existing. Additionally, I am also included the closely related and also discussed ideas of transparency and explainability as they are frequently interlinked and discussed together. "
   ]
  },
  {
   "cell_type": "code",
   "execution_count": 6,
   "id": "1f8de6bc-b97e-4224-a81e-6b2854c9071a",
   "metadata": {
    "tags": []
   },
   "outputs": [],
   "source": [
    "# Replacing all the missing values in the AI Principles column with 'None' so that we can look for specific strings\n",
    "values = {'AI Principle(s)': 'None'}\n",
    "df =df.fillna(value=values)"
   ]
  },
  {
   "cell_type": "code",
   "execution_count": 7,
   "id": "abca9b13-c5f6-44c1-adfa-834f97cb76cc",
   "metadata": {
    "tags": []
   },
   "outputs": [
    {
     "data": {
      "text/plain": [
       "(430, 52)"
      ]
     },
     "execution_count": 7,
     "metadata": {},
     "output_type": "execute_result"
    }
   ],
   "source": [
    "# Collecting all entries where accountability is flagged as a principle\n",
    "acc_df = df[df['AI Principle(s)'].str.contains(\"Accountability\")]\n",
    "acc_df.shape"
   ]
  },
  {
   "cell_type": "code",
   "execution_count": 8,
   "id": "ebb3b806-022b-4e28-8e2d-199786ef8382",
   "metadata": {
    "tags": []
   },
   "outputs": [
    {
     "data": {
      "text/plain": [
       "(511, 52)"
      ]
     },
     "execution_count": 8,
     "metadata": {},
     "output_type": "execute_result"
    }
   ],
   "source": [
    "# Collecting all entries where transparency is flagged as a principle\n",
    "trans_df = df[df['AI Principle(s)'].str.contains(\"Transparency and explainability\")]\n",
    "trans_df.shape"
   ]
  },
  {
   "cell_type": "code",
   "execution_count": 9,
   "id": "48fced8f-0547-42ad-abd6-a0c75c203628",
   "metadata": {
    "tags": []
   },
   "outputs": [
    {
     "data": {
      "text/plain": [
       "(941, 52)"
      ]
     },
     "execution_count": 9,
     "metadata": {},
     "output_type": "execute_result"
    }
   ],
   "source": [
    "# Combining the accountability and transparency dataframes\n",
    "joint_df = pd.concat([trans_df, acc_df])\n",
    "joint_df.shape"
   ]
  },
  {
   "cell_type": "code",
   "execution_count": 10,
   "id": "eedc6439-3106-43c5-b1a7-3edd622741c4",
   "metadata": {
    "tags": []
   },
   "outputs": [
    {
     "data": {
      "text/plain": [
       "(578, 52)"
      ]
     },
     "execution_count": 10,
     "metadata": {},
     "output_type": "execute_result"
    }
   ],
   "source": [
    "# Dropping any duplicate columns as some entries may contain both principles and could appear double\n",
    "joint_df = joint_df.drop_duplicates()\n",
    "joint_df.shape "
   ]
  },
  {
   "cell_type": "markdown",
   "id": "ba20d3ef-8342-468c-bb9c-e101bebddce8",
   "metadata": {},
   "source": [
    "As we can see with the reduced amount of entries of 578, we now should have all the documents that contain either transparency, accountability or both principles. "
   ]
  },
  {
   "cell_type": "code",
   "execution_count": 11,
   "id": "8afb4374-bd28-4e61-830e-2a68c61b8e0e",
   "metadata": {
    "tags": []
   },
   "outputs": [
    {
     "data": {
      "text/html": [
       "<div>\n",
       "<style scoped>\n",
       "    .dataframe tbody tr th:only-of-type {\n",
       "        vertical-align: middle;\n",
       "    }\n",
       "\n",
       "    .dataframe tbody tr th {\n",
       "        vertical-align: top;\n",
       "    }\n",
       "\n",
       "    .dataframe thead th {\n",
       "        text-align: right;\n",
       "    }\n",
       "</style>\n",
       "<table border=\"1\" class=\"dataframe\">\n",
       "  <thead>\n",
       "    <tr style=\"text-align: right;\">\n",
       "      <th></th>\n",
       "      <th>Policy initiative ID</th>\n",
       "      <th>Platform URL</th>\n",
       "      <th>English name</th>\n",
       "      <th>Original name(s)</th>\n",
       "      <th>Acronym</th>\n",
       "      <th>Country</th>\n",
       "      <th>Start date</th>\n",
       "      <th>End date</th>\n",
       "      <th>Description</th>\n",
       "      <th>Theme area(s)</th>\n",
       "      <th>...</th>\n",
       "      <th>Objective</th>\n",
       "      <th>Deployment year</th>\n",
       "      <th>Cancellation reason</th>\n",
       "      <th>Entities involvement</th>\n",
       "      <th>Allocated funding</th>\n",
       "      <th>Methodology in place to assess the risk and evaluate the impact of AI in public services</th>\n",
       "      <th>Measures taken to communicate the use of the AI system to citizens (transparency)</th>\n",
       "      <th>Measures taken to enable citizens to understand and challenge the outcome of the AI system (explainability and accountability)</th>\n",
       "      <th>Audit, certification, monitoring, evaluation or regulation process</th>\n",
       "      <th>Entered into force on</th>\n",
       "    </tr>\n",
       "  </thead>\n",
       "  <tbody>\n",
       "    <tr>\n",
       "      <th>29</th>\n",
       "      <td>2021/data/policyInitiatives/14907</td>\n",
       "      <td>https://oecd.ai/en/dashboards/policy-initiativ...</td>\n",
       "      <td>AUSTRIAN COUNCIL FOR ROBOTICS AND AI</td>\n",
       "      <td>Österreichischer Rat für Robotik und Künstlich...</td>\n",
       "      <td>ACRAI</td>\n",
       "      <td>Austria</td>\n",
       "      <td>2017.0</td>\n",
       "      <td>NaN</td>\n",
       "      <td>ACRAI was established by the Minister of the F...</td>\n",
       "      <td>National AI Policies|Value-based Principles</td>\n",
       "      <td>...</td>\n",
       "      <td>NaN</td>\n",
       "      <td>NaN</td>\n",
       "      <td>NaN</td>\n",
       "      <td>NaN</td>\n",
       "      <td>NaN</td>\n",
       "      <td>NaN</td>\n",
       "      <td>NaN</td>\n",
       "      <td>NaN</td>\n",
       "      <td>NaN</td>\n",
       "      <td>NaN</td>\n",
       "    </tr>\n",
       "    <tr>\n",
       "      <th>30</th>\n",
       "      <td>2021/data/policyInitiatives/14907</td>\n",
       "      <td>https://oecd.ai/en/dashboards/policy-initiativ...</td>\n",
       "      <td>AUSTRIAN COUNCIL FOR ROBOTICS AND AI</td>\n",
       "      <td>Österreichischer Rat für Robotik und Künstlich...</td>\n",
       "      <td>ACRAI</td>\n",
       "      <td>Austria</td>\n",
       "      <td>2017.0</td>\n",
       "      <td>NaN</td>\n",
       "      <td>ACRAI was established by the Minister of the F...</td>\n",
       "      <td>National AI Policies|Value-based Principles</td>\n",
       "      <td>...</td>\n",
       "      <td>NaN</td>\n",
       "      <td>NaN</td>\n",
       "      <td>NaN</td>\n",
       "      <td>NaN</td>\n",
       "      <td>NaN</td>\n",
       "      <td>NaN</td>\n",
       "      <td>NaN</td>\n",
       "      <td>NaN</td>\n",
       "      <td>NaN</td>\n",
       "      <td>NaN</td>\n",
       "    </tr>\n",
       "    <tr>\n",
       "      <th>45</th>\n",
       "      <td>2021/data/policyInitiatives/15413</td>\n",
       "      <td>https://oecd.ai/en/dashboards/policy-initiativ...</td>\n",
       "      <td>ADVANCED INTEGRATED INTELLIGENCE PLATFORM PROJECT</td>\n",
       "      <td>人工知能／ビッグデータ／IoT／サイバーセキュリティ統合プロジェクト</td>\n",
       "      <td>AIP</td>\n",
       "      <td>Japan</td>\n",
       "      <td>2016.0</td>\n",
       "      <td>NaN</td>\n",
       "      <td>To gather top researchers and promote R&amp;D for ...</td>\n",
       "      <td>National AI Policies</td>\n",
       "      <td>...</td>\n",
       "      <td>NaN</td>\n",
       "      <td>NaN</td>\n",
       "      <td>NaN</td>\n",
       "      <td>NaN</td>\n",
       "      <td>NaN</td>\n",
       "      <td>NaN</td>\n",
       "      <td>NaN</td>\n",
       "      <td>NaN</td>\n",
       "      <td>NaN</td>\n",
       "      <td>NaN</td>\n",
       "    </tr>\n",
       "    <tr>\n",
       "      <th>46</th>\n",
       "      <td>2021/data/policyInitiatives/15413</td>\n",
       "      <td>https://oecd.ai/en/dashboards/policy-initiativ...</td>\n",
       "      <td>ADVANCED INTEGRATED INTELLIGENCE PLATFORM PROJECT</td>\n",
       "      <td>人工知能／ビッグデータ／IoT／サイバーセキュリティ統合プロジェクト</td>\n",
       "      <td>AIP</td>\n",
       "      <td>Japan</td>\n",
       "      <td>2016.0</td>\n",
       "      <td>NaN</td>\n",
       "      <td>To gather top researchers and promote R&amp;D for ...</td>\n",
       "      <td>National AI Policies</td>\n",
       "      <td>...</td>\n",
       "      <td>NaN</td>\n",
       "      <td>NaN</td>\n",
       "      <td>NaN</td>\n",
       "      <td>NaN</td>\n",
       "      <td>NaN</td>\n",
       "      <td>NaN</td>\n",
       "      <td>NaN</td>\n",
       "      <td>NaN</td>\n",
       "      <td>NaN</td>\n",
       "      <td>NaN</td>\n",
       "    </tr>\n",
       "    <tr>\n",
       "      <th>88</th>\n",
       "      <td>2021/data/policyInitiatives/23955</td>\n",
       "      <td>https://oecd.ai/en/dashboards/policy-initiativ...</td>\n",
       "      <td>COORDINATED PLAN ON ARTIFICIAL INTELLIGENCE</td>\n",
       "      <td>NaN</td>\n",
       "      <td>NaN</td>\n",
       "      <td>European Union</td>\n",
       "      <td>2018.0</td>\n",
       "      <td>NaN</td>\n",
       "      <td>The coordinated plan builds on a \"Declaration ...</td>\n",
       "      <td>National AI Policies</td>\n",
       "      <td>...</td>\n",
       "      <td>NaN</td>\n",
       "      <td>NaN</td>\n",
       "      <td>NaN</td>\n",
       "      <td>NaN</td>\n",
       "      <td>NaN</td>\n",
       "      <td>NaN</td>\n",
       "      <td>NaN</td>\n",
       "      <td>NaN</td>\n",
       "      <td>NaN</td>\n",
       "      <td>NaN</td>\n",
       "    </tr>\n",
       "  </tbody>\n",
       "</table>\n",
       "<p>5 rows × 52 columns</p>\n",
       "</div>"
      ],
      "text/plain": [
       "                 Policy initiative ID  \\\n",
       "29  2021/data/policyInitiatives/14907   \n",
       "30  2021/data/policyInitiatives/14907   \n",
       "45  2021/data/policyInitiatives/15413   \n",
       "46  2021/data/policyInitiatives/15413   \n",
       "88  2021/data/policyInitiatives/23955   \n",
       "\n",
       "                                         Platform URL  \\\n",
       "29  https://oecd.ai/en/dashboards/policy-initiativ...   \n",
       "30  https://oecd.ai/en/dashboards/policy-initiativ...   \n",
       "45  https://oecd.ai/en/dashboards/policy-initiativ...   \n",
       "46  https://oecd.ai/en/dashboards/policy-initiativ...   \n",
       "88  https://oecd.ai/en/dashboards/policy-initiativ...   \n",
       "\n",
       "                                         English name  \\\n",
       "29               AUSTRIAN COUNCIL FOR ROBOTICS AND AI   \n",
       "30               AUSTRIAN COUNCIL FOR ROBOTICS AND AI   \n",
       "45  ADVANCED INTEGRATED INTELLIGENCE PLATFORM PROJECT   \n",
       "46  ADVANCED INTEGRATED INTELLIGENCE PLATFORM PROJECT   \n",
       "88        COORDINATED PLAN ON ARTIFICIAL INTELLIGENCE   \n",
       "\n",
       "                                     Original name(s) Acronym         Country  \\\n",
       "29  Österreichischer Rat für Robotik und Künstlich...   ACRAI         Austria   \n",
       "30  Österreichischer Rat für Robotik und Künstlich...   ACRAI         Austria   \n",
       "45                 人工知能／ビッグデータ／IoT／サイバーセキュリティ統合プロジェクト     AIP           Japan   \n",
       "46                 人工知能／ビッグデータ／IoT／サイバーセキュリティ統合プロジェクト     AIP           Japan   \n",
       "88                                                NaN     NaN  European Union   \n",
       "\n",
       "    Start date  End date                                        Description  \\\n",
       "29      2017.0       NaN  ACRAI was established by the Minister of the F...   \n",
       "30      2017.0       NaN  ACRAI was established by the Minister of the F...   \n",
       "45      2016.0       NaN  To gather top researchers and promote R&D for ...   \n",
       "46      2016.0       NaN  To gather top researchers and promote R&D for ...   \n",
       "88      2018.0       NaN  The coordinated plan builds on a \"Declaration ...   \n",
       "\n",
       "                                  Theme area(s)  ... Objective  \\\n",
       "29  National AI Policies|Value-based Principles  ...       NaN   \n",
       "30  National AI Policies|Value-based Principles  ...       NaN   \n",
       "45                         National AI Policies  ...       NaN   \n",
       "46                         National AI Policies  ...       NaN   \n",
       "88                         National AI Policies  ...       NaN   \n",
       "\n",
       "   Deployment year Cancellation reason Entities involvement Allocated funding  \\\n",
       "29             NaN                 NaN                  NaN               NaN   \n",
       "30             NaN                 NaN                  NaN               NaN   \n",
       "45             NaN                 NaN                  NaN               NaN   \n",
       "46             NaN                 NaN                  NaN               NaN   \n",
       "88             NaN                 NaN                  NaN               NaN   \n",
       "\n",
       "   Methodology in place to assess the risk and evaluate the impact of AI in public services  \\\n",
       "29                                                NaN                                         \n",
       "30                                                NaN                                         \n",
       "45                                                NaN                                         \n",
       "46                                                NaN                                         \n",
       "88                                                NaN                                         \n",
       "\n",
       "   Measures taken to communicate the use of the AI system to citizens (transparency)  \\\n",
       "29                                                NaN                                  \n",
       "30                                                NaN                                  \n",
       "45                                                NaN                                  \n",
       "46                                                NaN                                  \n",
       "88                                                NaN                                  \n",
       "\n",
       "    Measures taken to enable citizens to understand and challenge the outcome of the AI system (explainability and accountability)  \\\n",
       "29                                                NaN                                                                                \n",
       "30                                                NaN                                                                                \n",
       "45                                                NaN                                                                                \n",
       "46                                                NaN                                                                                \n",
       "88                                                NaN                                                                                \n",
       "\n",
       "    Audit, certification, monitoring, evaluation or regulation process  \\\n",
       "29                                                NaN                    \n",
       "30                                                NaN                    \n",
       "45                                                NaN                    \n",
       "46                                                NaN                    \n",
       "88                                                NaN                    \n",
       "\n",
       "   Entered into force on  \n",
       "29                   NaN  \n",
       "30                   NaN  \n",
       "45                   NaN  \n",
       "46                   NaN  \n",
       "88                   NaN  \n",
       "\n",
       "[5 rows x 52 columns]"
      ]
     },
     "execution_count": 11,
     "metadata": {},
     "output_type": "execute_result"
    }
   ],
   "source": [
    "joint_df.head(5)"
   ]
  },
  {
   "cell_type": "markdown",
   "id": "c78424ea-240e-4544-a0ae-245c7f1665f6",
   "metadata": {},
   "source": [
    "After inspected the DataFrame again, I realised that it still contained a lot of duplicates. This is a quirk of the orginal dataset `oecd-ai-all-ai-policies.csv` and not caused by the merging of the datasets based on the different ethical principles.\n",
    "\n",
    "The `Policy initiative ID` is used as a unique identifier for all the policy initiatives. This is why I am using only this column to drop any of the remaining duplicates in the dataset. "
   ]
  },
  {
   "cell_type": "code",
   "execution_count": 12,
   "id": "1a84b167-6bf7-49a9-8acc-713e52ed0b9d",
   "metadata": {
    "tags": []
   },
   "outputs": [],
   "source": [
    "cleaned_joint = joint_df.drop_duplicates(subset='Policy initiative ID')"
   ]
  },
  {
   "cell_type": "markdown",
   "id": "9f7decbc-d237-4858-963b-cb6e8e53afd0",
   "metadata": {},
   "source": [
    "Now, let's check how many entries we have remaining:"
   ]
  },
  {
   "cell_type": "code",
   "execution_count": 13,
   "id": "b94d6562-b7ac-4666-8d46-c3b39d78e4c8",
   "metadata": {
    "tags": []
   },
   "outputs": [
    {
     "data": {
      "text/plain": [
       "(293, 52)"
      ]
     },
     "execution_count": 13,
     "metadata": {},
     "output_type": "execute_result"
    }
   ],
   "source": [
    "cleaned_joint.shape"
   ]
  },
  {
   "cell_type": "markdown",
   "id": "2e1018e2-627a-40ab-9ee3-3059eced52a6",
   "metadata": {},
   "source": [
    "Next, the dataset contains a lot of columns, however not all of these are useful or interesting for our usecase.\n",
    "For this reason, I collected columns that were not relevant and removed them from the dataset in order to avoid any clutter."
   ]
  },
  {
   "cell_type": "code",
   "execution_count": 16,
   "id": "8475a197-a012-4855-ac6f-bde03e8e7868",
   "metadata": {
    "tags": []
   },
   "outputs": [],
   "source": [
    "to_be_dropped = ['Has funding from private sector ?', 'Is a structural reform ?',\n",
    "                 'Is evaluated ?', 'Evaluation URL','AI Principle(s)', 'AI Policy Area(s)',\n",
    "                 'Other AI Policy Area(s)','Shift(s) related to Covid', 'Evaluation performed by',\n",
    "                 'Evaluation type', 'Evaluation provides input to','Policy instrument ID',\n",
    "                 'Policy instrument type category','Policy instrument type', 'Policy instrument name',\n",
    "                 'Policy instrument description(s)','Strategy priority targets and deadlines',\n",
    "                 'Coordinating institution name', 'Consultation process objective',\n",
    "                 'Consultation process begin date', 'Consultation process end date',\n",
    "                 'Start date', 'End date','Description', 'Theme area(s)', 'Theme(s)',\n",
    "                 'Background', 'Objective(s)', 'Target group type(s)', 'Target group(s)',\n",
    "                 'Yearly budget range','Budget amount\\n(in local currency)',\n",
    "                 'Policy instrument mini-field(s)', 'Objective', 'Deployment year',\n",
    "                 'Methodology in place to assess the risk and evaluate the impact of AI in public services',\n",
    "                 'Measures taken to communicate the use of the AI system to citizens (transparency)',\n",
    "                 'Measures taken to enable citizens to understand and challenge the outcome of the AI system (explainability and accountability)',\n",
    "                 'Audit, certification, monitoring, evaluation or regulation process','Entered into force on',\n",
    "                 'Cancellation reason', 'Entities involvement', 'Allocated funding']\n",
    "cleaned_joint = cleaned_joint.drop(labels = to_be_dropped, axis = 1)"
   ]
  },
  {
   "cell_type": "markdown",
   "id": "1ec4b770-ebed-446f-a0e2-16d388105893",
   "metadata": {},
   "source": [
    "We can do a final check of the DataFrame's shape to check if everything is in order:"
   ]
  },
  {
   "cell_type": "code",
   "execution_count": 17,
   "id": "189aac11-5b84-4367-935e-0c2b6141a70c",
   "metadata": {
    "tags": []
   },
   "outputs": [
    {
     "data": {
      "text/plain": [
       "(293, 9)"
      ]
     },
     "execution_count": 17,
     "metadata": {},
     "output_type": "execute_result"
    }
   ],
   "source": [
    "cleaned_joint.shape"
   ]
  },
  {
   "cell_type": "markdown",
   "id": "9f4b7e8c-8046-4b66-bb05-2330718c556d",
   "metadata": {},
   "source": [
    "Now, we have narrowed down the dataset to 293 possibly relevant policy initatives and only 9 columns of metadata on them. Next, I am saving the DataFrame to a CSV file. After this, I will use the newly created CSV file `cleaned_policies.csv` in order to check each of the entries and download them."
   ]
  },
  {
   "cell_type": "code",
   "execution_count": 40,
   "id": "d2605b82-282c-4c72-9f1e-7e3907a851f6",
   "metadata": {
    "tags": []
   },
   "outputs": [],
   "source": [
    "cleaned_joint.to_csv('corpus/cleaned_policies.csv') # please note that this is saved in a folder called corpus"
   ]
  },
  {
   "cell_type": "markdown",
   "id": "c65593ff-037a-4e2e-a09a-c61247c5a0ae",
   "metadata": {
    "tags": []
   },
   "source": [
    "## 3. Evaluating the corpus\n",
    "---"
   ]
  },
  {
   "cell_type": "markdown",
   "id": "d40ecf7c-40fe-4149-b094-1e2a78df990d",
   "metadata": {},
   "source": [
    "Using Google Sheets, I imported the `cleaned_policies.csv` file and check the URLs of each entry.\n",
    "In doing so, I added two new columns `Available in English` and `Invalid/irrelevant source` to classify which entries were available and added to the final corpus (more information what classifies as \"Invalid/irrelevant source\" is in the thesis).\n",
    "\n",
    "After manually checking all 293 entries, the final corpus consists of a total of 86 documents from this dataset. All the PDFs were downloaded and named after their respective `Policy initiative ID` the only difference being the forward slash `/` being replaced with a underscore `_`. This is because the `/` may cause issues with reading the files as it usually denotes going into a folder when opening a file."
   ]
  },
  {
   "cell_type": "code",
   "execution_count": 36,
   "id": "307ba380-841b-4a76-bc3c-4fdde124947a",
   "metadata": {
    "tags": []
   },
   "outputs": [],
   "source": [
    "# Importing the necessary libraries\n",
    "import matplotlib.pyplot as plt\n",
    "import pandas as pd"
   ]
  },
  {
   "cell_type": "code",
   "execution_count": 38,
   "id": "30153908-3c9d-4545-99cf-5f70197e65ca",
   "metadata": {
    "tags": []
   },
   "outputs": [],
   "source": [
    "# Reading the final corpus selection CSV\n",
    "selected_df = pd.read_csv('corpus/corpus_selection.csv')"
   ]
  },
  {
   "cell_type": "code",
   "execution_count": 22,
   "id": "68905d67-c05a-4212-870a-b64253cc366a",
   "metadata": {
    "tags": []
   },
   "outputs": [
    {
     "data": {
      "text/html": [
       "<div>\n",
       "<style scoped>\n",
       "    .dataframe tbody tr th:only-of-type {\n",
       "        vertical-align: middle;\n",
       "    }\n",
       "\n",
       "    .dataframe tbody tr th {\n",
       "        vertical-align: top;\n",
       "    }\n",
       "\n",
       "    .dataframe thead th {\n",
       "        text-align: right;\n",
       "    }\n",
       "</style>\n",
       "<table border=\"1\" class=\"dataframe\">\n",
       "  <thead>\n",
       "    <tr style=\"text-align: right;\">\n",
       "      <th></th>\n",
       "      <th>Unnamed: 0</th>\n",
       "      <th>Policy initiative ID</th>\n",
       "      <th>Platform URL</th>\n",
       "      <th>English name</th>\n",
       "      <th>Original name(s)</th>\n",
       "      <th>Acronym</th>\n",
       "      <th>Country</th>\n",
       "      <th>Responsible organisation(s)</th>\n",
       "      <th>Link</th>\n",
       "      <th>Public access URL</th>\n",
       "      <th>Available in English</th>\n",
       "      <th>Invalid/irrelevant source</th>\n",
       "    </tr>\n",
       "  </thead>\n",
       "  <tbody>\n",
       "    <tr>\n",
       "      <th>0</th>\n",
       "      <td>29.0</td>\n",
       "      <td>2021/data/policyInitiatives/14907</td>\n",
       "      <td>https://oecd.ai/en/dashboards/policy-initiativ...</td>\n",
       "      <td>AUSTRIAN COUNCIL FOR ROBOTICS AND AI</td>\n",
       "      <td>Österreichischer Rat für Robotik und Künstlich...</td>\n",
       "      <td>ACRAI</td>\n",
       "      <td>Austria</td>\n",
       "      <td>Federal Ministry for Transport, Innovation and...</td>\n",
       "      <td>NaN</td>\n",
       "      <td>https://www.acrai.at/</td>\n",
       "      <td>NaN</td>\n",
       "      <td>True</td>\n",
       "    </tr>\n",
       "    <tr>\n",
       "      <th>1</th>\n",
       "      <td>45.0</td>\n",
       "      <td>2021/data/policyInitiatives/15413</td>\n",
       "      <td>https://oecd.ai/en/dashboards/policy-initiativ...</td>\n",
       "      <td>ADVANCED INTEGRATED INTELLIGENCE PLATFORM PROJECT</td>\n",
       "      <td>人工知能／ビッグデータ／IoT／サイバーセキュリティ統合プロジェクト</td>\n",
       "      <td>AIP</td>\n",
       "      <td>Japan</td>\n",
       "      <td>RIKEN (RIKEN;理化学研究所)|Japan Science and Technol...</td>\n",
       "      <td>NaN</td>\n",
       "      <td>https://www.riken.jp/en/\\nhttps://www.jst.go.j...</td>\n",
       "      <td>No</td>\n",
       "      <td>NaN</td>\n",
       "    </tr>\n",
       "    <tr>\n",
       "      <th>2</th>\n",
       "      <td>88.0</td>\n",
       "      <td>2021/data/policyInitiatives/23955</td>\n",
       "      <td>https://oecd.ai/en/dashboards/policy-initiativ...</td>\n",
       "      <td>COORDINATED PLAN ON ARTIFICIAL INTELLIGENCE</td>\n",
       "      <td>NaN</td>\n",
       "      <td>NaN</td>\n",
       "      <td>European Union</td>\n",
       "      <td>European Commission (EC;)</td>\n",
       "      <td>NaN</td>\n",
       "      <td>https://ec.europa.eu/digital-single-market/en/...</td>\n",
       "      <td>Yes</td>\n",
       "      <td>NaN</td>\n",
       "    </tr>\n",
       "    <tr>\n",
       "      <th>3</th>\n",
       "      <td>144.0</td>\n",
       "      <td>2021/data/policyInitiatives/24197</td>\n",
       "      <td>https://oecd.ai/en/dashboards/policy-initiativ...</td>\n",
       "      <td>AI SOURCE LIST</td>\n",
       "      <td>NaN</td>\n",
       "      <td>NaN</td>\n",
       "      <td>Canada</td>\n",
       "      <td>Treasury Board Secretariat (TBS;)</td>\n",
       "      <td>NaN</td>\n",
       "      <td>https://buyandsell.gc.ca/procurement-data/tend...</td>\n",
       "      <td>Yes</td>\n",
       "      <td>NaN</td>\n",
       "    </tr>\n",
       "    <tr>\n",
       "      <th>4</th>\n",
       "      <td>154.0</td>\n",
       "      <td>2021/data/policyInitiatives/24211</td>\n",
       "      <td>https://oecd.ai/en/dashboards/policy-initiativ...</td>\n",
       "      <td>FINNISH CENTRE FOR AI</td>\n",
       "      <td>Suomen tekoälykeskus</td>\n",
       "      <td>FCAI</td>\n",
       "      <td>Finland</td>\n",
       "      <td>Aalto University (;Aalto-yliopisto)|University...</td>\n",
       "      <td>NaN</td>\n",
       "      <td>https://fcai.fi/</td>\n",
       "      <td>NaN</td>\n",
       "      <td>True</td>\n",
       "    </tr>\n",
       "  </tbody>\n",
       "</table>\n",
       "</div>"
      ],
      "text/plain": [
       "   Unnamed: 0               Policy initiative ID  \\\n",
       "0        29.0  2021/data/policyInitiatives/14907   \n",
       "1        45.0  2021/data/policyInitiatives/15413   \n",
       "2        88.0  2021/data/policyInitiatives/23955   \n",
       "3       144.0  2021/data/policyInitiatives/24197   \n",
       "4       154.0  2021/data/policyInitiatives/24211   \n",
       "\n",
       "                                        Platform URL  \\\n",
       "0  https://oecd.ai/en/dashboards/policy-initiativ...   \n",
       "1  https://oecd.ai/en/dashboards/policy-initiativ...   \n",
       "2  https://oecd.ai/en/dashboards/policy-initiativ...   \n",
       "3  https://oecd.ai/en/dashboards/policy-initiativ...   \n",
       "4  https://oecd.ai/en/dashboards/policy-initiativ...   \n",
       "\n",
       "                                        English name  \\\n",
       "0               AUSTRIAN COUNCIL FOR ROBOTICS AND AI   \n",
       "1  ADVANCED INTEGRATED INTELLIGENCE PLATFORM PROJECT   \n",
       "2        COORDINATED PLAN ON ARTIFICIAL INTELLIGENCE   \n",
       "3                                     AI SOURCE LIST   \n",
       "4                              FINNISH CENTRE FOR AI   \n",
       "\n",
       "                                    Original name(s) Acronym         Country  \\\n",
       "0  Österreichischer Rat für Robotik und Künstlich...   ACRAI         Austria   \n",
       "1                 人工知能／ビッグデータ／IoT／サイバーセキュリティ統合プロジェクト     AIP           Japan   \n",
       "2                                                NaN     NaN  European Union   \n",
       "3                                                NaN     NaN          Canada   \n",
       "4                               Suomen tekoälykeskus    FCAI         Finland   \n",
       "\n",
       "                         Responsible organisation(s) Link  \\\n",
       "0  Federal Ministry for Transport, Innovation and...  NaN   \n",
       "1  RIKEN (RIKEN;理化学研究所)|Japan Science and Technol...  NaN   \n",
       "2                          European Commission (EC;)  NaN   \n",
       "3                  Treasury Board Secretariat (TBS;)  NaN   \n",
       "4  Aalto University (;Aalto-yliopisto)|University...  NaN   \n",
       "\n",
       "                                   Public access URL Available in English  \\\n",
       "0                              https://www.acrai.at/                  NaN   \n",
       "1  https://www.riken.jp/en/\\nhttps://www.jst.go.j...                   No   \n",
       "2  https://ec.europa.eu/digital-single-market/en/...                  Yes   \n",
       "3  https://buyandsell.gc.ca/procurement-data/tend...                  Yes   \n",
       "4                                   https://fcai.fi/                  NaN   \n",
       "\n",
       "  Invalid/irrelevant source  \n",
       "0                      True  \n",
       "1                       NaN  \n",
       "2                       NaN  \n",
       "3                       NaN  \n",
       "4                      True  "
      ]
     },
     "execution_count": 22,
     "metadata": {},
     "output_type": "execute_result"
    }
   ],
   "source": [
    "selected_df.head()"
   ]
  },
  {
   "cell_type": "markdown",
   "id": "475a1ff3-0899-4b94-a552-49e84fdd913c",
   "metadata": {},
   "source": [
    "The code below let's us check how many entries had a \"Yes\" in the `Available in English` column, which comes out to a total of 86 documents."
   ]
  },
  {
   "cell_type": "code",
   "execution_count": 29,
   "id": "178dd9ec-935a-4953-ad4a-b8e30a3e0c9d",
   "metadata": {
    "tags": []
   },
   "outputs": [
    {
     "data": {
      "text/plain": [
       "86"
      ]
     },
     "execution_count": 29,
     "metadata": {},
     "output_type": "execute_result"
    }
   ],
   "source": [
    "filter_downloaded = selected_df[selected_df['Available in English']=='Yes'].count()\n",
    "filter_downloaded['Available in English']"
   ]
  },
  {
   "cell_type": "markdown",
   "id": "60e808d1-eae6-41b1-8357-d2824fe2a10f",
   "metadata": {},
   "source": [
    "Further, we can do some visualizations of where the policy initiatives come from. First, I am checking all the policies initiatives that were selected for a manual check, which shows quite some diversity in origins:"
   ]
  },
  {
   "cell_type": "code",
   "execution_count": 8,
   "id": "93175d60-febc-4f20-ad8c-1e097c8d0c83",
   "metadata": {
    "tags": []
   },
   "outputs": [
    {
     "data": {
      "image/png": "[encoded data removed]",
      "text/plain": [
       "<Figure size 500x850 with 1 Axes>"
      ]
     },
     "metadata": {},
     "output_type": "display_data"
    }
   ],
   "source": [
    "bar_colors = ['tab:blue', 'tab:cyan']\n",
    "selected_df.value_counts('Country').plot(kind='barh', title=\"Fig 1: Preselection of initiatives\", figsize =(5,8.5), color = bar_colors)\n",
    "plt.ylabel('Country / Organization')\n",
    "plt.xlabel('Initiatives')\n",
    "plt.yticks(fontsize = 'x-small')\n",
    "plt.savefig('Total_initiatives_per_country.png', bbox_inches = 'tight')"
   ]
  },
  {
   "cell_type": "markdown",
   "id": "64aac7d7-a7f1-4c0c-9274-6feae138b030",
   "metadata": {},
   "source": [
    "After this, let's contrast this with the origins of the initiatives, which are actually part of the corpus:"
   ]
  },
  {
   "cell_type": "code",
   "execution_count": 9,
   "id": "7d25f1f0-43ea-456c-8906-362c7d60c820",
   "metadata": {
    "tags": []
   },
   "outputs": [
    {
     "data": {
      "image/png": "[encoded data removed]",
      "text/plain": [
       "<Figure size 500x850 with 1 Axes>"
      ]
     },
     "metadata": {},
     "output_type": "display_data"
    }
   ],
   "source": [
    "bar_colors = ['tab:red', 'tab:orange']\n",
    "filter_downloaded.value_counts('Country').plot(kind='barh', title=\"Fig 2: Selected initiatives per country\", figsize =(5,8.5), color = bar_colors)\n",
    "plt.ylabel('Country / Organization')\n",
    "plt.xlabel('Initiatives')\n",
    "plt.yticks(fontsize = 'x-small')\n",
    "plt.savefig('Selected_initiatives_per_country.png', bbox_inches = 'tight')"
   ]
  },
  {
   "cell_type": "markdown",
   "id": "8ec2a02a-7f9f-4175-9a85-6592732c80bd",
   "metadata": {},
   "source": [
    "Lastly, we can check, how the documents were filtered out. We can see below that 158 entries we discarded due to an invalid/irrelevant source. I go into the definition of what falls into this category further in the thesis. "
   ]
  },
  {
   "cell_type": "code",
   "execution_count": 34,
   "id": "ee7a60d3-3361-4907-b9f1-7ad362c63baf",
   "metadata": {
    "tags": []
   },
   "outputs": [
    {
     "name": "stdout",
     "output_type": "stream",
     "text": [
      "Available in English\n",
      "Yes    86\n",
      "No     55\n",
      "Name: count, dtype: int64\n",
      "\n",
      "\n",
      "Invalid/irrelevant source\n",
      "True    158\n",
      "Name: count, dtype: int64\n"
     ]
    }
   ],
   "source": [
    "filter_english = selected_df.value_counts('Available in English')\n",
    "filter_relevant = selected_df.value_counts('Invalid/irrelevant source')\n",
    "\n",
    "print(filter_english)\n",
    "print('\\n')\n",
    "print(filter_relevant)"
   ]
  },
  {
   "cell_type": "markdown",
   "id": "2ca83cf5-9779-4c10-b6de-c75144417ec5",
   "metadata": {},
   "source": [
    "## 4. Converting PDFs into text files for further processing\n",
    "---"
   ]
  },
  {
   "cell_type": "markdown",
   "id": "4feaceb4-db83-4ba5-93d5-6a74d4a2b5c6",
   "metadata": {},
   "source": [
    "Lastly, in order to make use of the dataset, the actual text of the PDFs is needed.\n",
    "Below I am using the Fitz library in order to extract the text and save it in a new folder called `corpus_txt`. Now the corpus is ready for preprocessing (see next Notebook `BERTopic_v1.ipynb`). "
   ]
  },
  {
   "cell_type": "code",
   "execution_count": null,
   "id": "d6979207-1bcb-48d9-a177-b0f28a8b5079",
   "metadata": {},
   "outputs": [],
   "source": [
    "from glob import glob\n",
    "import sys\n",
    "import pathlib\n",
    "import fitz\n",
    "import os\n",
    "from os import makedirs\n",
    "from os.path import join\n",
    "\n",
    "folder = 'corpus_txt' # Create new folder name\n",
    "makedirs(folder, exist_ok=True) # Create a directory/folder\n",
    "\n",
    "\n",
    "for pdf in glob(\"Policy_corpus\" + '/*.pdf'): # Looping through the folder in which the PDFs are saved to convert to TXT\n",
    "    filename = pdf.split('/')[1].split('.')[0]  # Extracting the first part of the name \n",
    "    filepath = join(folder, '{}.txt'.format(filename)) # Creating a new filepath\n",
    "    \n",
    "    doc = fitz.open(pdf) # Open the PDF\n",
    "    out = open(filepath, \"wb\") # Create a text output\n",
    "    for page in doc: # Iterate the document pages\n",
    "        text = page.get_text().encode(\"utf8\") # Get plain text (in UTF-8)\n",
    "        out.write(text) # Write text of page\n",
    "        out.write(bytes((12,))) # Write page delimiter (form feed 0x0C)\n",
    "    out.close()"
   ]
  }
 ],
 "metadata": {
  "kernelspec": {
   "display_name": "Python 3 (ipykernel)",
   "language": "python",
   "name": "python3"
  },
  "language_info": {
   "codemirror_mode": {
    "name": "ipython",
    "version": 3
   },
   "file_extension": ".py",
   "mimetype": "text/x-python",
   "name": "python",
   "nbconvert_exporter": "python",
   "pygments_lexer": "ipython3",
   "version": "3.11.7"
  }
 },
 "nbformat": 4,
 "nbformat_minor": 5
}
